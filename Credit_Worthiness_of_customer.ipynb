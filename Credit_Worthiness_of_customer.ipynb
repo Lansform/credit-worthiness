{
  "nbformat": 4,
  "nbformat_minor": 0,
  "metadata": {
    "colab": {
      "name": "Credit-Worthiness-of-customer.ipynb",
      "provenance": [],
      "collapsed_sections": [
        "AOymCCIoZ-Cg",
        "P9SrgzjCM3-8",
        "NsdcIFyxuntX"
      ],
      "toc_visible": true
    },
    "kernelspec": {
      "name": "python3",
      "display_name": "Python 3"
    },
    "accelerator": "TPU"
  },
  "cells": [
    {
      "cell_type": "markdown",
      "metadata": {
        "id": "p_g6l1fhDn69"
      },
      "source": [
        "# Credit Worthiness of a Customer"
      ]
    },
    {
      "cell_type": "code",
      "metadata": {
        "id": "W1qH6T4tPlpS",
        "outputId": "8217f046-ebf2-4f65-9520-79613c8dd58f",
        "colab": {
          "base_uri": "https://localhost:8080/",
          "height": 34
        }
      },
      "source": [
        "from google.colab import drive\n",
        "import pandas as pd\n",
        "import numpy as np\n",
        "import matplotlib.pyplot as plt\n",
        "import seaborn as sns\n",
        "from sklearn.model_selection import train_test_split\n",
        "from sklearn.preprocessing import StandardScaler \n",
        "from sklearn.linear_model import LogisticRegression\n",
        "from sklearn.metrics import classification_report, confusion_matrix\n",
        "from sklearn.metrics import accuracy_score \n",
        "from sklearn.feature_selection import RFE\n",
        "from sklearn.tree import DecisionTreeClassifier\n",
        "from sklearn.tree import export_graphviz\n",
        "from sklearn.ensemble import RandomForestClassifier\n",
        "from sklearn.model_selection import RandomizedSearchCV \n",
        "from sklearn.model_selection import GridSearchCV\n",
        "from sklearn import metrics\n",
        "from sklearn.model_selection import cross_val_score\n",
        "\n",
        "drive.mount('/content/drive')"
      ],
      "execution_count": 100,
      "outputs": [
        {
          "output_type": "stream",
          "text": [
            "Drive already mounted at /content/drive; to attempt to forcibly remount, call drive.mount(\"/content/drive\", force_remount=True).\n"
          ],
          "name": "stdout"
        }
      ]
    },
    {
      "cell_type": "markdown",
      "source": [
        "print (\"Accuracy : \", accuracy_score(y_imp_test, y_imp_pred)*100, \"%\") "
      ],
      "execution_count": 127,
      "outputs": [
        {
          "output_type": "stream",
          "text": [
            "Accuracy :  81.26666666666667 %\n"
          ],
          "name": "stdout"
        }
      ]
    },
    {
      "cell_type": "markdown",
      "metadata": {
        "id": "mfwi-pneo7oU"
      },
      "source": [
        "#### Decision Tree Classification"
      ]
    },
    {
      "cell_type": "code",
      "metadata": {
        "id": "o3CVOTZXpBPa",
        "outputId": "7845ef20-f10e-48d1-a034-9b61dd0b66ca",
        "colab": {
          "base_uri": "https://localhost:8080/",
          "height": 0
        }
      },
      "source": [
        "dtree = DecisionTreeClassifier()\n",
        "dtree.fit(x_std_train, y_train)"
      ],
      "execution_count": 128,
      "outputs": [
        {
          "output_type": "execute_result",
          "data": {
            "text/plain": [
              "DecisionTreeClassifier(ccp_alpha=0.0, class_weight=None, criterion='gini',\n",
              "                       max_depth=None, max_features=None, max_leaf_nodes=None,\n",
              "                       min_impurity_decrease=0.0, min_impurity_split=None,\n",
              "                       min_samples_leaf=1, min_samples_split=2,\n",
              "                       min_weight_fraction_leaf=0.0, presort='deprecated',\n",
              "                       random_state=None, splitter='best')"
            ]
          },
          "metadata": {
            "tags": []
          },
          "execution_count": 128
        }
      ]
    },
    {
      "cell_type": "code",
      "metadata": {
        "id": "aq2-ulk-rTsw"
      },
      "source": [
        "y_pred = dtree.predict(x_std_test)"
      ],
      "execution_count": 129,
      "outputs": []
    },
    {
      "cell_type": "code",
      "metadata": {
        "id": "Vd-g3UW9r0ba",
        "outputId": "adbbebe0-ff81-4d32-edc0-becb30630c4d",
        "colab": {
          "base_uri": "https://localhost:8080/",
          "height": 0
        }
      },
      "source": [
        "cm = confusion_matrix(y_test, y_pred) \n",
        "print (\"Confusion Matrix : \\n\", cm) \n",
        "\n",
        "sns.heatmap(cm ,annot=True, cmap=\"icefire\", fmt=\"d\", \n",
        "            xticklabels = ['Non-default', 'Default'], \n",
        "            yticklabels = ['Non-default', 'Default'])\n",
        "plt.ylabel('True label')\n",
        "plt.xlabel('Predicted label')\n",
        "plt.title(\"Confusion Matrix - Decision Tree\");"
      ],
      "execution_count": 130,
      "outputs": [
        {
          "output_type": "stream",
          "text": [
            "Confusion Matrix : \n",
            " [[3772  901]\n",
            " [ 801  526]]\n"
          ],
          "name": "stdout"
        },
        {
          "output_type": "display_data",
          "data": {
            "image/png": "[encoded data removed]",
            "text/plain": [
              "<Figure size 432x288 with 2 Axes>"
            ]
          },
          "metadata": {
            "tags": [],
            "needs_background": "light"
          }
        }
      ]
    },
    {
      "cell_type": "code",
      "metadata": {
        "id": "YzUq54Mdr7mQ",
        "outputId": "d65d931e-09c6-4028-e670-b79687bef850",
        "colab": {
          "base_uri": "https://localhost:8080/",
          "height": 0
        }
      },
      "source": [
        "print (\"Accuracy : \", accuracy_score(y_test, y_pred)*100, \"%\") "
      ],
      "execution_count": 131,
      "outputs": [
        {
          "output_type": "stream",
          "text": [
            "Accuracy :  71.63333333333334 %\n"
          ],
          "name": "stdout"
        }
      ]
    },
    {
      "cell_type": "markdown",
      "metadata": {
        "id": "gI-zoRezXuZk"
      },
      "source": [
        "#### Random Forest Classification"
      ]
    },
    {
      "cell_type": "code",
      "metadata": {
        "id": "zkDvPQbIX2ia",
        "outputId": "72af6840-9d5e-4ada-e22a-5d62ef417f18",
        "colab": {
          "base_uri": "https://localhost:8080/",
          "height": 151
        }
      },
      "source": [
        "rf = RandomForestClassifier()\n",
        "rf.fit(x_std_train, y_train)"
      ],
      "execution_count": 132,
      "outputs": [
        {
          "output_type": "execute_result",
          "data": {
            "text/plain": [
              "RandomForestClassifier(bootstrap=True, ccp_alpha=0.0, class_weight=None,\n",
              "                       criterion='gini', max_depth=None, max_features='auto',\n",
              "                       max_leaf_nodes=None, max_samples=None,\n",
              "                       min_impurity_decrease=0.0, min_impurity_split=None,\n",
              "                       min_samples_leaf=1, min_samples_split=2,\n",
              "                       min_weight_fraction_leaf=0.0, n_estimators=100,\n",
              "                       n_jobs=None, oob_score=False, random_state=None,\n",
              "                       verbose=0, warm_start=False)"
            ]
          },
          "metadata": {
            "tags": []
          },
          "execution_count": 132
        }
      ]
    },
    {
      "cell_type": "code",
      "metadata": {
        "id": "7lTFhJN0h7Oi"
      },
      "source": [
        "y_pred = rf.predict(x_std_test)"
      ],
      "execution_count": 133,
      "outputs": []
    },
    {
      "cell_type": "code",
      "metadata": {
        "id": "MZ0tl9voiCUJ",
        "outputId": "94f56a7b-c7d2-4c87-f8a2-e7db1a15c56d",
        "colab": {
          "base_uri": "https://localhost:8080/",
          "height": 346
        }
      },
      "source": [
        "cv_results_lrO = cross_val_score(lrO , x_train, y_train, scoring = 'accuracy')\n",
        "print (\"Logistic Regression using original data : \", cv_results_lrO.mean())\n",
        "\n",
        "cv_results_lrStd = cross_val_score(lrStd , x_std_train, y_train, scoring = 'accuracy')\n",
        "print (\"Logistic Regression using standardized data : \", cv_results_lrStd.mean())\n",
        "\n",
        "cv_results_lrRFE = cross_val_score(lrRFE , x_imp_train, y_imp_train, scoring = 'accuracy')\n",
        "print (\"Logistic Regression using RFE data : \", cv_results_lrRFE.mean())\n",
        "\n",
        "cv_results_dt = cross_val_score(dtree , x_std_train, y_train, scoring = 'accuracy')\n",
        "print (\"Decision Tree using standardised data : \", cv_results_dt.mean())\n",
        "\n",
        "cv_results_rf = cross_val_score(rf , x_std_train, y_train, scoring = 'accuracy')\n",
        "print (\"Random Forest using original data : \", cv_results_rf.mean())"
      ],
      "execution_count": 143,
      "outputs": [
        {
          "output_type": "stream",
          "text": [
            "Logistic Regression using original data :  0.7787916666666667\n",
            "Logistic Regression using standardized data :  0.8112916666666667\n",
            "Logistic Regression using RFE data :  0.8129583333333332\n",
            "Decision Tree using standardised data :  0.7277916666666667\n",
            "Random Forest using original data :  0.8221666666666667\n"
          ],
          "name": "stdout"
        }
      ]
    },
    {
      "cell_type": "code",
      "metadata": {
        "id": "nq4qxO5nGNPx",
        "outputId": "19375373-033f-4e44-a3fa-21e1fa93294d",
        "colab": {
          "base_uri": "https://localhost:8080/",
          "height": 351
        }
      },
      "source": [
        "fig = plt.figure()\n",
        "ax = fig.add_axes([0,0,1,1])\n",
        "ax.set_ylim([0,1])\n",
        "models = ['LR \\n (original data)', 'LR \\n (standard data)', 'LR (RFE data)', 'Decision Tree', 'Random Forest']\n",
        "accuracy = [cv_results_lrO.mean(), cv_results_lrStd.mean(), cv_results_lrRFE.mean(), cv_results_dt.mean(), cv_results_rf.mean()]\n",
        "temp = ax.bar(models, accuracy)\n",
        "for t in temp:\n",
        "        height = t.get_height()\n",
        "        ax.text(t.get_x() + t.get_width()/2., 1.05*height, '%f' % float(height), ha='center', va='bottom')\n",
        "plt.show()"
      ],
      "execution_count": 144,
      "outputs": [
        {
          "output_type": "display_data",
          "data": {
            "image/png": "[encoded data removed]",
            "text/plain": [
              "<Figure size 432x288 with 1 Axes>"
            ]
          },
          "metadata": {
            "tags": [],
            "needs_background": "light"
          }
        }
      ]
    }
  ]
}
